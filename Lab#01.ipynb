{
 "cells": [
  {
   "cell_type": "markdown",
   "id": "26e23655",
   "metadata": {},
   "source": [
    "## Lab#01 (18CS60)"
   ]
  },
  {
   "cell_type": "markdown",
   "id": "d026cfb1",
   "metadata": {},
   "source": [
    "#### Task 1:"
   ]
  },
  {
   "cell_type": "code",
   "execution_count": 2,
   "id": "726e4817",
   "metadata": {},
   "outputs": [
    {
     "name": "stdout",
     "output_type": "stream",
     "text": [
      "hello world\n"
     ]
    }
   ],
   "source": [
    "print(\"hello world\")"
   ]
  },
  {
   "cell_type": "code",
   "execution_count": null,
   "id": "a37cfbb6",
   "metadata": {},
   "outputs": [],
   "source": []
  }
 ],
 "metadata": {
  "kernelspec": {
   "display_name": "Python 3 (ipykernel)",
   "language": "python",
   "name": "python3"
  },
  "language_info": {
   "codemirror_mode": {
    "name": "ipython",
    "version": 3
   },
   "file_extension": ".py",
   "mimetype": "text/x-python",
   "name": "python",
   "nbconvert_exporter": "python",
   "pygments_lexer": "ipython3",
   "version": "3.9.7"
  }
 },
 "nbformat": 4,
 "nbformat_minor": 5
}
