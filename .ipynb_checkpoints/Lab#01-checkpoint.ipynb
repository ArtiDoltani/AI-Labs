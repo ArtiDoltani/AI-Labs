{
 "cells": [
  {
   "cell_type": "markdown",
   "id": "26e23655",
   "metadata": {},
   "source": [
    "## Lab#01 (18CS60)"
   ]
  },
  {
   "cell_type": "markdown",
   "id": "d026cfb1",
   "metadata": {},
   "source": [
    "#### Task 1:"
   ]
  },
  {
   "cell_type": "code",
   "execution_count": 2,
   "id": "726e4817",
   "metadata": {},
   "outputs": [
    {
     "name": "stdout",
     "output_type": "stream",
     "text": [
      "hello world\n"
     ]
    }
   ],
   "source": [
    "print(\"hello world\")"
   ]
  },
  {
   "cell_type": "markdown",
   "id": "657617de",
   "metadata": {},
   "source": [
    "#### Task 2:"
   ]
  },
  {
   "cell_type": "code",
   "execution_count": 1,
   "id": "d2c2961b",
   "metadata": {},
   "outputs": [
    {
     "name": "stdout",
     "output_type": "stream",
     "text": [
      "enter first number60\n",
      "enter 2nd number70\n",
      "addition of given numbers =  130.0\n",
      "subtraction of given numbers =  -10.0\n",
      "multiplication of given numbers =  4200.0\n",
      "division of given numbers =  0.8571428571428571\n"
     ]
    }
   ],
   "source": [
    "a=input(\"enter first number\")\n",
    "b=input(\"enter 2nd number\")\n",
    "sum= float(a)+float(b)\n",
    "sub=float(a)-float(b)\n",
    "pro=float(a)*float(b)\n",
    "div=float(a)/float(b)\n",
    "print(\"addition of given numbers = \", sum)\n",
    "print(\"subtraction of given numbers = \", sub)\n",
    "print(\"multiplication of given numbers = \", pro)\n",
    "print(\"division of given numbers = \", div)\n"
   ]
  },
  {
   "cell_type": "markdown",
   "id": "4186e2a5",
   "metadata": {},
   "source": [
    "#### Task 03"
   ]
  },
  {
   "cell_type": "code",
   "execution_count": 3,
   "id": "8ee9c364",
   "metadata": {},
   "outputs": [
    {
     "name": "stdout",
     "output_type": "stream",
     "text": [
      "enter a number for square root9\n",
      "square root of given number= 3.0\n"
     ]
    }
   ],
   "source": [
    "import math\n",
    "a=input(\"enter a number for square root\")\n",
    "print(\"square root of given number=\",math.sqrt(float(a)))\n"
   ]
  },
  {
   "cell_type": "markdown",
   "id": "9f39f470",
   "metadata": {},
   "source": [
    "#### Task 04"
   ]
  },
  {
   "cell_type": "code",
   "execution_count": null,
   "id": "c446b030",
   "metadata": {},
   "outputs": [],
   "source": [
    "import math\n",
    "r=float(input(\"enter raduis\"))\n",
    "d=2**r\n",
    "c=2**math.pi*r\n",
    "c=2*math.pi*r*2\n",
    "print(\"area=\",a)\n",
    "print(\"C=\",c)\n",
    "print(\"diameter=\",d)"
   ]
  },
  {
   "cell_type": "markdown",
   "id": "82f29fe0",
   "metadata": {},
   "source": [
    "#### Task 05\n"
   ]
  },
  {
   "cell_type": "code",
   "execution_count": null,
   "id": "3c1bee75",
   "metadata": {},
   "outputs": [],
   "source": [
    "import cmath  \n",
    "a = float(input('Enter a: '))  \n",
    "b = float(input('Enter b: '))  \n",
    "c = float(input('Enter c: '))  \n",
    "# calculate the discriminant  \n",
    "d = (b**2) - (4*a*c)  \n",
    "  \n",
    "# find two solutions  \n",
    "sol1 = (-b-cmath.sqrt(d))/(2*a)  \n",
    "sol2 = (-b+cmath.sqrt(d))/(2*a)  \n",
    "print('The solution are {0} and {1}'.format(sol1,sol2))"
   ]
  },
  {
   "cell_type": "markdown",
   "id": "f71acd31",
   "metadata": {},
   "source": [
    "#### Task 06"
   ]
  },
  {
   "cell_type": "code",
   "execution_count": null,
   "id": "c9e2953d",
   "metadata": {},
   "outputs": [],
   "source": [
    "#6. all comparsion operator\n",
    "a = 60\n",
    "b = 90\n",
    "print(a > b)\n",
    "print(a < b)\n",
    "print(a == b)\n",
    "print(a != b)\n",
    "print(a >= b)\n",
    "print(a <= b)"
   ]
  }
 ],
 "metadata": {
  "kernelspec": {
   "display_name": "Python 3 (ipykernel)",
   "language": "python",
   "name": "python3"
  },
  "language_info": {
   "codemirror_mode": {
    "name": "ipython",
    "version": 3
   },
   "file_extension": ".py",
   "mimetype": "text/x-python",
   "name": "python",
   "nbconvert_exporter": "python",
   "pygments_lexer": "ipython3",
   "version": "3.9.7"
  }
 },
 "nbformat": 4,
 "nbformat_minor": 5
}
