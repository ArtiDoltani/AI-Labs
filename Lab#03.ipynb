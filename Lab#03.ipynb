{
 "cells": [
  {
   "cell_type": "code",
   "execution_count": 4,
   "id": "f3ced503",
   "metadata": {},
   "outputs": [
    {
     "name": "stdout",
     "output_type": "stream",
     "text": [
      "vertices of graphs:  dict_keys(['a', 'b', 'c', 'd', 'e', 'f'])\n",
      "edges for keysdict_keys(['a', 'b', 'c', 'd', 'e', 'f']) are dict_values([[''], ['c', 'e'], ['a', 'b', 'd', 'e'], ['c'], ['b', 'c'], []])\n"
     ]
    }
   ],
   "source": [
    "graph={\n",
    " 'a':[\"\"],\n",
    "  'b':[\"c\",\"e\"]  ,\n",
    " 'c':[\"a\",\"b\",\"d\",\"e\"] , \n",
    "  'd':[\"c\"] , \n",
    "  'e':[\"b\",\"c\"],  \n",
    "    \"f\":[]  \n",
    "}\n",
    "print(\"vertices of graphs: \",graph.keys())\n",
    "print(\"edges for keys{0} are {1}\".format(graph.keys(),graph.values()))"
   ]
  },
  {
   "cell_type": "markdown",
   "id": "6d5c7712",
   "metadata": {},
   "source": [
    "### Function of edges"
   ]
  },
  {
   "cell_type": "code",
   "execution_count": 7,
   "id": "eb6a7c8a",
   "metadata": {},
   "outputs": [
    {
     "name": "stdout",
     "output_type": "stream",
     "text": [
      "Generating Edges [('a', ''), ('b', 'c'), ('b', 'e'), ('c', 'a'), ('c', 'b'), ('c', 'd'), ('c', 'e'), ('d', 'c'), ('e', 'b'), ('e', 'c')]\n"
     ]
    }
   ],
   "source": [
    "def generate_edges(graph):\n",
    "    edges = []\n",
    "    for node in graph:\n",
    "        for neighbour in graph[node]:\n",
    "            edges.append((node, neighbour))\n",
    "    return edges\n",
    "print(\"Generating Edges\", generate_edges(graph))"
   ]
  },
  {
   "cell_type": "markdown",
   "id": "1a354f0b",
   "metadata": {},
   "source": [
    "## Finding Isolated Nodes"
   ]
  },
  {
   "cell_type": "code",
   "execution_count": 8,
   "id": "2c15291b",
   "metadata": {},
   "outputs": [
    {
     "name": "stdout",
     "output_type": "stream",
     "text": [
      "Isolated nodes are:  ['f']\n"
     ]
    }
   ],
   "source": [
    "def find_isolated_nodes(graph):\n",
    "    isolated = []\n",
    "    for node in graph:\n",
    "        if not graph[node]:\n",
    "            isolated+=node\n",
    "    return isolated\n",
    "print(\"Isolated nodes are: \",find_isolated_nodes(graph))\n",
    "    "
   ]
  },
  {
   "cell_type": "markdown",
   "id": "99ae9f28",
   "metadata": {},
   "source": [
    "### Finding path between two nodes"
   ]
  },
  {
   "cell_type": "code",
   "execution_count": 12,
   "id": "234a379f",
   "metadata": {},
   "outputs": [
    {
     "name": "stdout",
     "output_type": "stream",
     "text": [
      "Paths between start and end are:  ['c']\n"
     ]
    }
   ],
   "source": [
    "def get_path(start, end,graph, path=[]):\n",
    "    path = path + [start]\n",
    "    if start == end:\n",
    "        return path\n",
    "    \n",
    "    if start not in graph:\n",
    "        return []\n",
    "    \n",
    "    path = []\n",
    "    \n",
    "    for node in graph[start]:\n",
    "        if node not in path:\n",
    "            new_paths = get_path(node, end, path)\n",
    "            for p in new_paths:\n",
    "                path.append(p)\n",
    "    return path\n",
    "\n",
    "print(\"Paths between start and end are: \", get_path(\"b\",\"c\",graph))"
   ]
  },
  {
   "cell_type": "markdown",
   "id": "d7aecf33",
   "metadata": {},
   "source": [
    "## Finding Shortest Path between Two Nodes/Vertices"
   ]
  },
  {
   "cell_type": "code",
   "execution_count": 6,
   "id": "0fe7b962",
   "metadata": {},
   "outputs": [
    {
     "name": "stdout",
     "output_type": "stream",
     "text": [
      "Shortest Paths between start and end are:  []\n"
     ]
    }
   ],
   "source": [
    "def get_shortest_path(start, end, path=[]):\n",
    "    path = path + [start]\n",
    "    if start == end:\n",
    "        return path\n",
    "    \n",
    "    if start not in graph:\n",
    "        return None\n",
    "    \n",
    "    shortest_path = []\n",
    "    \n",
    "    for node in graph[start]:\n",
    "        if node not in path:\n",
    "            sp = get_shortest_path(node, end, path)\n",
    "            if sp:\n",
    "                if shortest_path is None or len(sp)<len(shortest_path):\n",
    "                    shortest_path = sp\n",
    "    return shortest_path\n",
    "\n",
    "print(\"Shortest Paths between start and end are: \", get_shortest_path(\"b\",\"c\"))"
   ]
  },
  {
   "cell_type": "code",
   "execution_count": null,
   "id": "e35b2029",
   "metadata": {},
   "outputs": [],
   "source": []
  }
 ],
 "metadata": {
  "kernelspec": {
   "display_name": "Python 3 (ipykernel)",
   "language": "python",
   "name": "python3"
  },
  "language_info": {
   "codemirror_mode": {
    "name": "ipython",
    "version": 3
   },
   "file_extension": ".py",
   "mimetype": "text/x-python",
   "name": "python",
   "nbconvert_exporter": "python",
   "pygments_lexer": "ipython3",
   "version": "3.9.7"
  }
 },
 "nbformat": 4,
 "nbformat_minor": 5
}
